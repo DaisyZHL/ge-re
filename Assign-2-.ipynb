{
 "cells": [
  {
   "cell_type": "markdown",
   "metadata": {},
   "source": [
    "# 华东师范大学计算机科学技术系作业\n",
    "\n",
    " | 华东师范大学计算机科学技术系作业 | |\n",
    ":- | :- | :- \n",
    " 课程名称：编程导论Python | 年级：2018级| 作业成绩：\n",
    " 指导教师：兰曼 | 姓名：黎明  |  提交作业日期：2018年10月8日  \n",
    " 专业：计算机系 | 学号：***********  |  作业编号： 2\n",
    " -----------------------------"
   ]
  },
  {
   "cell_type": "markdown",
   "metadata": {},
   "source": [
    "一、 编写一个Python 程序，计算 $1^4+2^4+3^4+...+(n-1)^4+n^4$ 的结果。（15分）"
   ]
  },
  {
   "cell_type": "code",
   "execution_count": 1,
   "metadata": {},
   "outputs": [
    {
     "name": "stdout",
     "output_type": "stream",
     "text": [
      "354\n"
     ]
    }
   ],
   "source": [
    "n = 4\n",
    "s = 0\n",
    "for i in range(n):\n",
    "    s += (i+1) ** 4\n",
    "print(s)"
   ]
  },
  {
   "cell_type": "markdown",
   "metadata": {},
   "source": [
    "二、\t在全班50 名同学中征集慈善募捐活动，预计要捐善款一万元，每个同学捐款数目不定，当捐款总数大于等于一万元之后停止捐款。编写一个Python\n",
    "程序，统计此时捐款人数以及平均捐款数目。\n",
    "<br/>\n",
    "输入：依次输入每个同学的捐款钱数，总数大于等于一万停止；\n",
    "<br/>\n",
    "输出：两个数N 和A，分别代表捐款人数和平均捐款数。\n",
    "<br/>\n",
    "（15分）"
   ]
  },
  {
   "cell_type": "code",
   "execution_count": 7,
   "metadata": {},
   "outputs": [
    {
     "name": "stdout",
     "output_type": "stream",
     "text": [
      "0.1\n",
      "567\n",
      "21\n",
      "1\n",
      "5\n",
      "4212\n",
      "300\n",
      "7000\n",
      "N= 8\n",
      "A= 1513.2625\n"
     ]
    }
   ],
   "source": [
    "s= 0\n",
    "N = 0\n",
    "A = 0\n",
    "while True:\n",
    "    s += float(input())\n",
    "    N += 1\n",
    "    if s >= 10000:\n",
    "        break\n",
    "A = s / N\n",
    "print(\"N=\", N)\n",
    "print(\"A=\", A)"
   ]
  },
  {
   "cell_type": "markdown",
   "metadata": {},
   "source": [
    "三、\t有三门课外兴趣班，分别是篮球班，羽毛球班和足球班，一个班级里每个同学都至少要选一门。现在将选课程的同学名单用列表表示L1（篮球班名单），L2（羽毛球班名单），L3（足球班名单），同学名称用拼音代替，如“XiaoMing”、“Lanlan”等，假设班级里没有重名的学生。编写一个Python程序，打印该班级同学名单，并求出共有多少名同学？\n",
    "<br/>\n",
    "输入：列表L1，L2 和L3，列表中存的是同学名字\n",
    "<br/>\n",
    "输出：学生名单和学生总数\n",
    "<br/>\n",
    "（10分）"
   ]
  },
  {
   "cell_type": "code",
   "execution_count": null,
   "metadata": {},
   "outputs": [],
   "source": []
  },
  {
   "cell_type": "markdown",
   "metadata": {},
   "source": [
    "四、\t编写一个Pyhton 程序，求200 到500 之间不能被3 整除但能被5 整除的所有数。（15分）"
   ]
  },
  {
   "cell_type": "code",
   "execution_count": null,
   "metadata": {},
   "outputs": [],
   "source": []
  },
  {
   "cell_type": "markdown",
   "metadata": {},
   "source": [
    "五、\t编写一个Pyhton 程序，求三位数的整数中能被3 整除，且至少有一位是5 的所有数。（15分）"
   ]
  },
  {
   "cell_type": "code",
   "execution_count": 3,
   "metadata": {},
   "outputs": [
    {
     "name": "stdout",
     "output_type": "stream",
     "text": [
      "[105, 135, 150, 153, 156, 159, 165, 195, 225, 252, 255, 258, 285, 315, 345, 351, 354, 357, 375, 405, 435, 450, 453, 456, 459, 465, 495, 501, 504, 507, 510, 513, 516, 519, 522, 525, 528, 531, 534, 537, 540, 543, 546, 549, 552, 555, 558, 561, 564, 567, 570, 573, 576, 579, 582, 585, 588, 591, 594, 597, 615, 645, 651, 654, 657, 675, 705, 735, 750, 753, 756, 759, 765, 795, 825, 852, 855, 858, 885, 915, 945, 951, 954, 957, 975]\n"
     ]
    }
   ],
   "source": [
    "res = []\n",
    "for i in range(100, 1000):\n",
    "    if not i%3 and \"5\" in str(i):\n",
    "        res.append(i)\n",
    "print(res)"
   ]
  },
  {
   "cell_type": "markdown",
   "metadata": {},
   "source": [
    "六、\t编写一个Pyhton 程序，输入一个大于3 的整数n，判断该数是否是素数（质数）。（15分）"
   ]
  },
  {
   "cell_type": "code",
   "execution_count": 4,
   "metadata": {},
   "outputs": [
    {
     "data": {
      "text/plain": [
       "False"
      ]
     },
     "execution_count": 4,
     "metadata": {},
     "output_type": "execute_result"
    }
   ],
   "source": [
    "def isPrime(n):\n",
    "    i = 2\n",
    "    while i*i <= n:\n",
    "        if not n%i:\n",
    "            return False\n",
    "        i += 1\n",
    "    return True\n",
    "\n",
    "isPrime(10087)"
   ]
  },
  {
   "cell_type": "markdown",
   "metadata": {},
   "source": [
    "七、\t编写一个Pyhton 程序，求200 到500（包括500）之间的全部素数。（15分）"
   ]
  },
  {
   "cell_type": "code",
   "execution_count": 5,
   "metadata": {},
   "outputs": [
    {
     "name": "stdout",
     "output_type": "stream",
     "text": [
      "[211, 223, 227, 229, 233, 239, 241, 251, 257, 263, 269, 271, 277, 281, 283, 293, 307, 311, 313, 317, 331, 337, 347, 349, 353, 359, 367, 373, 379, 383, 389, 397, 401, 409, 419, 421, 431, 433, 439, 443, 449, 457, 461, 463, 467, 479, 487, 491, 499]\n"
     ]
    }
   ],
   "source": [
    "prime = [2]\n",
    "def isPrime(n):\n",
    "    for i in prime:\n",
    "        if not n%i:\n",
    "            return False\n",
    "    prime.append(n)\n",
    "    return True\n",
    "\n",
    "res = []\n",
    "for i in range(3, 501):\n",
    "    if isPrime(i) and i >= 200:\n",
    "        res.append(i)\n",
    "print(res)"
   ]
  }
 ],
 "metadata": {
  "kernelspec": {
   "display_name": "Python 3",
   "language": "python",
   "name": "python3"
  },
  "language_info": {
   "codemirror_mode": {
    "name": "ipython",
    "version": 3
   },
   "file_extension": ".py",
   "mimetype": "text/x-python",
   "name": "python",
   "nbconvert_exporter": "python",
   "pygments_lexer": "ipython3",
   "version": "3.7.0"
  }
 },
 "nbformat": 4,
 "nbformat_minor": 2
}
